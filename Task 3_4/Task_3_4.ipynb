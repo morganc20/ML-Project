{
 "cells": [
  {
   "cell_type": "code",
   "execution_count": 201,
   "id": "bc455482",
   "metadata": {},
   "outputs": [],
   "source": [
    "import sklearn.datasets\n",
    "import pandas as pd\n",
    "from pandas import DataFrame, Series\n",
    "import matplotlib.pyplot as plt\n",
    "import numpy as np\n",
    "\n",
    "crazyRich = DataFrame()\n",
    "crazyRich = pd.read_excel(r'C:\\Users\\chrsl\\OneDrive\\Desktop\\CURE\\Deliverables 4\\BillionairesIndexformatted.xlsx')\n",
    "\n",
    "crazyRich_sorted = crazyRich.sort_values('Industry', ignore_index=True)\n",
    "f0 = crazyRich_sorted.Industry.value_counts()\n",
    "\n",
    "crazyRich_attributes = crazyRich_sorted.drop(columns=[\"Rank\", \"Name\", \"Industry\", \"Country\"], axis=1)\n"
   ]
  },
  {
   "cell_type": "code",
   "execution_count": 202,
   "id": "1088b4dd",
   "metadata": {},
   "outputs": [],
   "source": [
    "from sklearn.model_selection import train_test_split\n",
    "from sklearn import preprocessing\n",
    "from sklearn.neighbors import KNeighborsClassifier\n",
    "\n",
    "le = preprocessing.LabelEncoder()\n",
    "\n",
    "dfx_train, dfx_test, sy_train, sy_test = train_test_split(crazyRich_attributes, crazyRich_sorted.Industry)\n",
    "\n",
    "# crazyRich_attributes is dataframe for attributes, crazyRich_attributes is dataframe for classes (industries)\n",
    "\n",
    "# Trains to find classes\n",
    "le = le.fit(sy_train)\n",
    "y_train = le.transform(sy_train)"
   ]
  },
  {
   "cell_type": "code",
   "execution_count": 203,
   "id": "09b07ea7",
   "metadata": {},
   "outputs": [],
   "source": [
    "# Learning and fitting on training set\n",
    "\n",
    "nl = preprocessing.MinMaxScaler()\n",
    "nl = nl.fit(dfx_train.to_numpy())\n",
    "x_train = nl.transform(dfx_train.to_numpy())"
   ]
  },
  {
   "cell_type": "code",
   "execution_count": 204,
   "id": "35fbbfcb",
   "metadata": {},
   "outputs": [],
   "source": [
    "# Selecting the amount of neighbours then fitting the knn value with the training set \n",
    "\n",
    "knn = KNeighborsClassifier(n_neighbors=1)\n",
    "knn = knn.fit(x_train, y_train)"
   ]
  },
  {
   "cell_type": "code",
   "execution_count": 205,
   "id": "c209d440",
   "metadata": {},
   "outputs": [
    {
     "data": {
      "text/plain": [
       "array([2, 4, 3, 4, 3, 0, 2, 0, 4, 2, 4, 3, 3, 4, 1, 3, 0, 4, 0, 1, 0, 1,\n",
       "       1, 3, 1, 4, 0, 4, 1, 0, 2, 3, 1, 4, 3, 4, 3, 2, 4, 4, 0, 3, 3, 4,\n",
       "       1, 4, 2, 3, 4, 2, 1, 3, 3, 2, 3, 3, 2, 4, 4, 3, 3, 2, 1, 1, 1, 1,\n",
       "       0, 0, 3, 4, 0])"
      ]
     },
     "execution_count": 205,
     "metadata": {},
     "output_type": "execute_result"
    }
   ],
   "source": [
    "# Testing the knn classifier using the test sets\n",
    "\n",
    "x_test = nl.transform(dfx_test.to_numpy())\n",
    "y_test = le.transform(sy_test.to_numpy())\n",
    "\n",
    "# Testing to predict the class\n",
    "\n",
    "knn.predict(x_test)"
   ]
  },
  {
   "cell_type": "code",
   "execution_count": 206,
   "id": "cc1a9082",
   "metadata": {},
   "outputs": [
    {
     "data": {
      "text/plain": [
       "array([2, 4, 2, 0, 3, 3, 4, 0, 4, 0, 4, 3, 3, 3, 3, 3, 4, 3, 0, 4, 3, 4,\n",
       "       2, 3, 1, 4, 2, 2, 0, 4, 2, 4, 4, 4, 3, 4, 4, 4, 4, 0, 0, 1, 1, 3,\n",
       "       2, 4, 1, 4, 4, 4, 1, 4, 2, 2, 3, 0, 4, 2, 4, 2, 1, 0, 2, 1, 4, 2,\n",
       "       3, 4, 3, 0, 4])"
      ]
     },
     "execution_count": 206,
     "metadata": {},
     "output_type": "execute_result"
    }
   ],
   "source": [
    "y_test"
   ]
  },
  {
   "cell_type": "code",
   "execution_count": 207,
   "id": "2d985d3b",
   "metadata": {},
   "outputs": [
    {
     "data": {
      "text/plain": [
       "0.38028169014084506"
      ]
     },
     "execution_count": 207,
     "metadata": {},
     "output_type": "execute_result"
    }
   ],
   "source": [
    "knn.score(x_test, y_test)\n"
   ]
  },
  {
   "cell_type": "code",
   "execution_count": 208,
   "id": "e5199861",
   "metadata": {},
   "outputs": [
    {
     "data": {
      "image/png": "[encoded data removed]",
      "text/plain": [
       "<Figure size 432x288 with 2 Axes>"
      ]
     },
     "metadata": {
      "needs_background": "light"
     },
     "output_type": "display_data"
    }
   ],
   "source": [
    "import matplotlib.pyplot as plt \n",
    "from sklearn.metrics import confusion_matrix\n",
    "from sklearn.metrics import plot_confusion_matrix\n",
    "\n",
    "KN = KNeighborsClassifier(n_neighbors = 41)\n",
    "KN = KN.fit(x_train, y_train)\n",
    "y_predict = KN.predict(x_test)\n",
    "confusionM = confusion_matrix(y_test,y_predict)\n",
    "tn = ConfusionM.ravel()\n",
    "plot_confusion_matrix(KN, x_test, y_test)\n",
    "plt.show()"
   ]
  },
  {
   "cell_type": "code",
   "execution_count": 209,
   "id": "73419ee9",
   "metadata": {},
   "outputs": [
    {
     "name": "stdout",
     "output_type": "stream",
     "text": [
      "0.3113207547169811 , 0.28169014084507044\n"
     ]
    }
   ],
   "source": [
    "KN=KNeighborsClassifier(n_neighbors=41)\n",
    "KN=KN.fit(x_train,y_train)\n",
    "y_test = le.transform(sy_test.to_numpy())\n",
    "x_test = nl.transform(dfx_test.to_numpy())\n",
    "print (KN.score(x_train,y_train),',',KN.score(x_test,y_test))"
   ]
  },
  {
   "cell_type": "code",
   "execution_count": 210,
   "id": "d70e9875",
   "metadata": {},
   "outputs": [
    {
     "data": {
      "text/plain": [
       "array(['Technology'], dtype=object)"
      ]
     },
     "execution_count": 210,
     "metadata": {},
     "output_type": "execute_result"
    }
   ],
   "source": [
    "predicT = DataFrame()\n",
    "\n",
    "predicT ['Total_Net_Worth'] = [5840000000]\n",
    "predicT ['LastChange'] = [-67800000]\n",
    "predicT ['YTDChange'] = [1240000000]\n",
    "\n",
    "NewPrediction = nl.transform(predicT.to_numpy())\n",
    "knn.predict(NewPrediction )\n",
    "le.inverse_transform(knn.predict(predicT.to_numpy()))"
   ]
  },
  {
   "cell_type": "code",
   "execution_count": null,
   "id": "e33ff921",
   "metadata": {},
   "outputs": [],
   "source": []
  }
 ],
 "metadata": {
  "kernelspec": {
   "display_name": "Python 3",
   "language": "python",
   "name": "python3"
  },
  "language_info": {
   "codemirror_mode": {
    "name": "ipython",
    "version": 3
   },
   "file_extension": ".py",
   "mimetype": "text/x-python",
   "name": "python",
   "nbconvert_exporter": "python",
   "pygments_lexer": "ipython3",
   "version": "3.8.8"
  }
 },
 "nbformat": 4,
 "nbformat_minor": 5
}
