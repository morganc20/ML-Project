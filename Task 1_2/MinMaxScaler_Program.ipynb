{
 "cells": [
  {
   "cell_type": "code",
   "execution_count": 10,
   "metadata": {},
   "outputs": [],
   "source": [
    "import sklearn.datasets\n",
    "import pandas as pd\n",
    "from pandas import DataFrame, Series\n",
    "import matplotlib.pyplot as plt\n",
    "import numpy as np\n",
    "\n",
    "crazyRich = DataFrame()\n",
    "crazyRich = pd.read_excel(r'BillionairesIndexformatted.xlsx')\n",
    "\n",
    "crazyRich_sorted = crazyRich.sort_values('Industry', ignore_index=True)\n",
    "f0 = crazyRich_sorted.Industry.value_counts()\n",
    "\n",
    "crazyRich_attributes = crazyRich_sorted.drop(columns=[\"Rank\", \"Name\", \"Industry\", \"Country\"], axis=1)\n"
   ]
  },
  {
   "cell_type": "code",
   "execution_count": 11,
   "metadata": {},
   "outputs": [],
   "source": [
    "from sklearn.model_selection import train_test_split\n",
    "from sklearn import preprocessing\n",
    "from sklearn.neighbors import KNeighborsClassifier\n",
    "\n",
    "le = preprocessing.LabelEncoder()\n",
    "\n",
    "dfx_train, dfx_test, sy_train, sy_test = train_test_split(crazyRich_attributes, crazyRich_sorted.Industry)\n",
    "\n",
    "# crazyRich_attributes is dataframe for attributes, crazyRich_attributes is dataframe for classes (industries)\n",
    "\n",
    "# Trains to find classes\n",
    "le = le.fit(sy_train)\n",
    "y_train = le.transform(sy_train)"
   ]
  },
  {
   "cell_type": "code",
   "execution_count": 12,
   "metadata": {},
   "outputs": [],
   "source": [
    "# Learning and fitting on training set\n",
    "\n",
    "nl = preprocessing.MinMaxScaler()\n",
    "nl = nl.fit(dfx_train.to_numpy())\n",
    "x_train = nl.transform(dfx_train.to_numpy())\n",
    "\n"
   ]
  },
  {
   "cell_type": "code",
   "execution_count": 299,
   "metadata": {},
   "outputs": [],
   "source": [
    "# Selecting the amount of neighbours then fitting the knn value with the training set \n",
    "\n",
    "# Manually changed k-value for each trial, values recorded in MinMaxScaler.xlsx\n",
    "knn = KNeighborsClassifier(n_neighbors=1)\n",
    "knn = knn.fit(x_train, y_train)"
   ]
  },
  {
   "cell_type": "code",
   "execution_count": 300,
   "metadata": {},
   "outputs": [
    {
     "data": {
      "text/plain": [
       "array([4, 4, 4, 4, 4, 0, 4, 3, 3, 1, 2, 0, 0, 2, 1, 1, 1, 4, 3, 1, 3, 1,\n",
       "       4, 3, 2, 3, 3, 4, 0, 3, 0, 0, 4, 4, 4, 4, 4, 3, 4, 4, 4, 4, 1, 2,\n",
       "       4, 4, 1, 1, 0, 1, 0, 4, 4, 0, 3, 4, 2, 1, 4, 0, 2, 4, 4, 0, 2, 3,\n",
       "       2, 4, 0, 2, 3])"
      ]
     },
     "execution_count": 300,
     "metadata": {},
     "output_type": "execute_result"
    }
   ],
   "source": [
    "# Testing the knn classifier using the test sets\n",
    "\n",
    "x_test = nl.transform(dfx_test.to_numpy())\n",
    "y_test = le.transform(sy_test.to_numpy())\n",
    "\n",
    "# Testing to predict the class\n",
    "\n",
    "knn.predict(x_test)\n"
   ]
  },
  {
   "cell_type": "code",
   "execution_count": 301,
   "metadata": {},
   "outputs": [
    {
     "data": {
      "text/plain": [
       "array([3, 1, 4, 3, 0, 2, 4, 0, 3, 0, 2, 2, 4, 0, 4, 1, 4, 3, 4, 4, 4, 4,\n",
       "       3, 3, 2, 2, 0, 4, 0, 1, 0, 0, 3, 1, 3, 0, 3, 3, 3, 4, 3, 4, 2, 1,\n",
       "       4, 4, 1, 1, 2, 3, 1, 0, 1, 2, 1, 1, 2, 3, 3, 0, 2, 4, 1, 0, 3, 4,\n",
       "       2, 4, 1, 1, 4])"
      ]
     },
     "execution_count": 301,
     "metadata": {},
     "output_type": "execute_result"
    }
   ],
   "source": [
    "y_test"
   ]
  },
  {
   "cell_type": "code",
   "execution_count": 302,
   "metadata": {},
   "outputs": [
    {
     "data": {
      "text/plain": [
       "0.352112676056338"
      ]
     },
     "execution_count": 302,
     "metadata": {},
     "output_type": "execute_result"
    }
   ],
   "source": [
    "knn.score(x_test, y_test)"
   ]
  },
  {
   "cell_type": "code",
   "execution_count": 303,
   "metadata": {},
   "outputs": [
    {
     "data": {
      "text/plain": [
       "1.0"
      ]
     },
     "execution_count": 303,
     "metadata": {},
     "output_type": "execute_result"
    }
   ],
   "source": [
    "knn.score(x_train, y_train)"
   ]
  },
  {
   "cell_type": "code",
   "execution_count": null,
   "metadata": {},
   "outputs": [],
   "source": []
  },
  {
   "cell_type": "code",
   "execution_count": null,
   "metadata": {},
   "outputs": [],
   "source": []
  }
 ],
 "metadata": {
  "interpreter": {
   "hash": "40d3a090f54c6569ab1632332b64b2c03c39dcf918b08424e98f38b5ae0af88f"
  },
  "kernelspec": {
   "display_name": "Python 3",
   "language": "python",
   "name": "python3"
  },
  "language_info": {
   "codemirror_mode": {
    "name": "ipython",
    "version": 3
   },
   "file_extension": ".py",
   "mimetype": "text/x-python",
   "name": "python",
   "nbconvert_exporter": "python",
   "pygments_lexer": "ipython3",
   "version": "3.8.8"
  }
 },
 "nbformat": 4,
 "nbformat_minor": 2
}
